{
 "cells": [
  {
   "cell_type": "markdown",
   "metadata": {},
   "source": [
    "# CC Fraud Analysis\n",
    "\n",
    "_created by Austin Poor_\n",
    "\n",
    "Analysis of credit card fraud data. Data source: https://www.kaggle.com/mlg-ulb/creditcardfraud"
   ]
  },
  {
   "cell_type": "code",
   "execution_count": 1,
   "metadata": {},
   "outputs": [],
   "source": [
    "import numpy as np\n",
    "import pandas as pd\n",
    "import matplotlib.pyplot as plt\n",
    "%matplotlib inline\n",
    "import seaborn as sns\n",
    "sns.set()"
   ]
  },
  {
   "cell_type": "code",
   "execution_count": 2,
   "metadata": {},
   "outputs": [
    {
     "data": {
      "text/html": [
       "<div>\n",
       "<style scoped>\n",
       "    .dataframe tbody tr th:only-of-type {\n",
       "        vertical-align: middle;\n",
       "    }\n",
       "\n",
       "    .dataframe tbody tr th {\n",
       "        vertical-align: top;\n",
       "    }\n",
       "\n",
       "    .dataframe thead th {\n",
       "        text-align: right;\n",
       "    }\n",
       "</style>\n",
       "<table border=\"1\" class=\"dataframe\">\n",
       "  <thead>\n",
       "    <tr style=\"text-align: right;\">\n",
       "      <th></th>\n",
       "      <th>Time</th>\n",
       "      <th>V1</th>\n",
       "      <th>V2</th>\n",
       "      <th>V3</th>\n",
       "      <th>V4</th>\n",
       "      <th>V5</th>\n",
       "      <th>V6</th>\n",
       "      <th>V7</th>\n",
       "      <th>V8</th>\n",
       "      <th>V9</th>\n",
       "      <th>...</th>\n",
       "      <th>V21</th>\n",
       "      <th>V22</th>\n",
       "      <th>V23</th>\n",
       "      <th>V24</th>\n",
       "      <th>V25</th>\n",
       "      <th>V26</th>\n",
       "      <th>V27</th>\n",
       "      <th>V28</th>\n",
       "      <th>Amount</th>\n",
       "      <th>Class</th>\n",
       "    </tr>\n",
       "  </thead>\n",
       "  <tbody>\n",
       "    <tr>\n",
       "      <th>0</th>\n",
       "      <td>0.0</td>\n",
       "      <td>-1.359807</td>\n",
       "      <td>-0.072781</td>\n",
       "      <td>2.536347</td>\n",
       "      <td>1.378155</td>\n",
       "      <td>-0.338321</td>\n",
       "      <td>0.462388</td>\n",
       "      <td>0.239599</td>\n",
       "      <td>0.098698</td>\n",
       "      <td>0.363787</td>\n",
       "      <td>...</td>\n",
       "      <td>-0.018307</td>\n",
       "      <td>0.277838</td>\n",
       "      <td>-0.110474</td>\n",
       "      <td>0.066928</td>\n",
       "      <td>0.128539</td>\n",
       "      <td>-0.189115</td>\n",
       "      <td>0.133558</td>\n",
       "      <td>-0.021053</td>\n",
       "      <td>149.62</td>\n",
       "      <td>0</td>\n",
       "    </tr>\n",
       "    <tr>\n",
       "      <th>1</th>\n",
       "      <td>0.0</td>\n",
       "      <td>1.191857</td>\n",
       "      <td>0.266151</td>\n",
       "      <td>0.166480</td>\n",
       "      <td>0.448154</td>\n",
       "      <td>0.060018</td>\n",
       "      <td>-0.082361</td>\n",
       "      <td>-0.078803</td>\n",
       "      <td>0.085102</td>\n",
       "      <td>-0.255425</td>\n",
       "      <td>...</td>\n",
       "      <td>-0.225775</td>\n",
       "      <td>-0.638672</td>\n",
       "      <td>0.101288</td>\n",
       "      <td>-0.339846</td>\n",
       "      <td>0.167170</td>\n",
       "      <td>0.125895</td>\n",
       "      <td>-0.008983</td>\n",
       "      <td>0.014724</td>\n",
       "      <td>2.69</td>\n",
       "      <td>0</td>\n",
       "    </tr>\n",
       "    <tr>\n",
       "      <th>2</th>\n",
       "      <td>1.0</td>\n",
       "      <td>-1.358354</td>\n",
       "      <td>-1.340163</td>\n",
       "      <td>1.773209</td>\n",
       "      <td>0.379780</td>\n",
       "      <td>-0.503198</td>\n",
       "      <td>1.800499</td>\n",
       "      <td>0.791461</td>\n",
       "      <td>0.247676</td>\n",
       "      <td>-1.514654</td>\n",
       "      <td>...</td>\n",
       "      <td>0.247998</td>\n",
       "      <td>0.771679</td>\n",
       "      <td>0.909412</td>\n",
       "      <td>-0.689281</td>\n",
       "      <td>-0.327642</td>\n",
       "      <td>-0.139097</td>\n",
       "      <td>-0.055353</td>\n",
       "      <td>-0.059752</td>\n",
       "      <td>378.66</td>\n",
       "      <td>0</td>\n",
       "    </tr>\n",
       "    <tr>\n",
       "      <th>3</th>\n",
       "      <td>1.0</td>\n",
       "      <td>-0.966272</td>\n",
       "      <td>-0.185226</td>\n",
       "      <td>1.792993</td>\n",
       "      <td>-0.863291</td>\n",
       "      <td>-0.010309</td>\n",
       "      <td>1.247203</td>\n",
       "      <td>0.237609</td>\n",
       "      <td>0.377436</td>\n",
       "      <td>-1.387024</td>\n",
       "      <td>...</td>\n",
       "      <td>-0.108300</td>\n",
       "      <td>0.005274</td>\n",
       "      <td>-0.190321</td>\n",
       "      <td>-1.175575</td>\n",
       "      <td>0.647376</td>\n",
       "      <td>-0.221929</td>\n",
       "      <td>0.062723</td>\n",
       "      <td>0.061458</td>\n",
       "      <td>123.50</td>\n",
       "      <td>0</td>\n",
       "    </tr>\n",
       "    <tr>\n",
       "      <th>4</th>\n",
       "      <td>2.0</td>\n",
       "      <td>-1.158233</td>\n",
       "      <td>0.877737</td>\n",
       "      <td>1.548718</td>\n",
       "      <td>0.403034</td>\n",
       "      <td>-0.407193</td>\n",
       "      <td>0.095921</td>\n",
       "      <td>0.592941</td>\n",
       "      <td>-0.270533</td>\n",
       "      <td>0.817739</td>\n",
       "      <td>...</td>\n",
       "      <td>-0.009431</td>\n",
       "      <td>0.798278</td>\n",
       "      <td>-0.137458</td>\n",
       "      <td>0.141267</td>\n",
       "      <td>-0.206010</td>\n",
       "      <td>0.502292</td>\n",
       "      <td>0.219422</td>\n",
       "      <td>0.215153</td>\n",
       "      <td>69.99</td>\n",
       "      <td>0</td>\n",
       "    </tr>\n",
       "  </tbody>\n",
       "</table>\n",
       "<p>5 rows × 31 columns</p>\n",
       "</div>"
      ],
      "text/plain": [
       "   Time        V1        V2        V3        V4        V5        V6        V7  \\\n",
       "0   0.0 -1.359807 -0.072781  2.536347  1.378155 -0.338321  0.462388  0.239599   \n",
       "1   0.0  1.191857  0.266151  0.166480  0.448154  0.060018 -0.082361 -0.078803   \n",
       "2   1.0 -1.358354 -1.340163  1.773209  0.379780 -0.503198  1.800499  0.791461   \n",
       "3   1.0 -0.966272 -0.185226  1.792993 -0.863291 -0.010309  1.247203  0.237609   \n",
       "4   2.0 -1.158233  0.877737  1.548718  0.403034 -0.407193  0.095921  0.592941   \n",
       "\n",
       "         V8        V9  ...       V21       V22       V23       V24       V25  \\\n",
       "0  0.098698  0.363787  ... -0.018307  0.277838 -0.110474  0.066928  0.128539   \n",
       "1  0.085102 -0.255425  ... -0.225775 -0.638672  0.101288 -0.339846  0.167170   \n",
       "2  0.247676 -1.514654  ...  0.247998  0.771679  0.909412 -0.689281 -0.327642   \n",
       "3  0.377436 -1.387024  ... -0.108300  0.005274 -0.190321 -1.175575  0.647376   \n",
       "4 -0.270533  0.817739  ... -0.009431  0.798278 -0.137458  0.141267 -0.206010   \n",
       "\n",
       "        V26       V27       V28  Amount  Class  \n",
       "0 -0.189115  0.133558 -0.021053  149.62      0  \n",
       "1  0.125895 -0.008983  0.014724    2.69      0  \n",
       "2 -0.139097 -0.055353 -0.059752  378.66      0  \n",
       "3 -0.221929  0.062723  0.061458  123.50      0  \n",
       "4  0.502292  0.219422  0.215153   69.99      0  \n",
       "\n",
       "[5 rows x 31 columns]"
      ]
     },
     "execution_count": 2,
     "metadata": {},
     "output_type": "execute_result"
    }
   ],
   "source": [
    "df = pd.read_csv(\"data/creditcard.csv\")\n",
    "df.head()"
   ]
  },
  {
   "cell_type": "code",
   "execution_count": 65,
   "metadata": {},
   "outputs": [
    {
     "name": "stdout",
     "output_type": "stream",
     "text": [
      "<class 'pandas.core.frame.DataFrame'>\n",
      "RangeIndex: 284807 entries, 0 to 284806\n",
      "Data columns (total 31 columns):\n",
      " #   Column  Non-Null Count   Dtype  \n",
      "---  ------  --------------   -----  \n",
      " 0   Time    284807 non-null  float64\n",
      " 1   V1      284807 non-null  float64\n",
      " 2   V2      284807 non-null  float64\n",
      " 3   V3      284807 non-null  float64\n",
      " 4   V4      284807 non-null  float64\n",
      " 5   V5      284807 non-null  float64\n",
      " 6   V6      284807 non-null  float64\n",
      " 7   V7      284807 non-null  float64\n",
      " 8   V8      284807 non-null  float64\n",
      " 9   V9      284807 non-null  float64\n",
      " 10  V10     284807 non-null  float64\n",
      " 11  V11     284807 non-null  float64\n",
      " 12  V12     284807 non-null  float64\n",
      " 13  V13     284807 non-null  float64\n",
      " 14  V14     284807 non-null  float64\n",
      " 15  V15     284807 non-null  float64\n",
      " 16  V16     284807 non-null  float64\n",
      " 17  V17     284807 non-null  float64\n",
      " 18  V18     284807 non-null  float64\n",
      " 19  V19     284807 non-null  float64\n",
      " 20  V20     284807 non-null  float64\n",
      " 21  V21     284807 non-null  float64\n",
      " 22  V22     284807 non-null  float64\n",
      " 23  V23     284807 non-null  float64\n",
      " 24  V24     284807 non-null  float64\n",
      " 25  V25     284807 non-null  float64\n",
      " 26  V26     284807 non-null  float64\n",
      " 27  V27     284807 non-null  float64\n",
      " 28  V28     284807 non-null  float64\n",
      " 29  Amount  284807 non-null  float64\n",
      " 30  Class   284807 non-null  int64  \n",
      "dtypes: float64(30), int64(1)\n",
      "memory usage: 67.4 MB\n"
     ]
    }
   ],
   "source": [
    "df.info()"
   ]
  },
  {
   "cell_type": "markdown",
   "metadata": {},
   "source": [
    "## EDA\n",
    "\n",
    "Look at info about size of dataset and class balances"
   ]
  },
  {
   "cell_type": "code",
   "execution_count": 20,
   "metadata": {},
   "outputs": [
    {
     "name": "stdout",
     "output_type": "stream",
     "text": [
      "n observations => 284,807\n",
      "n features     =>      30\n",
      "class balance  => 0.00173\n"
     ]
    }
   ],
   "source": [
    "print(f\"n observations => {df.shape[0]:,d}\")\n",
    "print(f\"n features     => {df.shape[1]-1:7d}\")\n",
    "\n",
    "class_balance = df.Class.mean()\n",
    "print(f\"class balance  => {class_balance:7.5f}\")"
   ]
  },
  {
   "cell_type": "markdown",
   "metadata": {},
   "source": [
    "It looks like the classes are _super_ inbalanced\n",
    "\n",
    "Plotting distributions for features"
   ]
  },
  {
   "cell_type": "code",
   "execution_count": 29,
   "metadata": {},
   "outputs": [
    {
     "data": {
      "image/png": "[encoded data removed]",
      "text/plain": [
       "<Figure size 864x288 with 1 Axes>"
      ]
     },
     "metadata": {},
     "output_type": "display_data"
    }
   ],
   "source": [
    "plt.figure(figsize=(12,4))\n",
    "sns.distplot(df.Time)\n",
    "plt.title(\"Distribution of Times\");"
   ]
  },
  {
   "cell_type": "code",
   "execution_count": 32,
   "metadata": {},
   "outputs": [
    {
     "data": {
      "image/png": "[encoded data removed]",
      "text/plain": [
       "<Figure size 864x288 with 1 Axes>"
      ]
     },
     "metadata": {},
     "output_type": "display_data"
    }
   ],
   "source": [
    "plt.figure(figsize=(12,4))\n",
    "sns.distplot(df.Amount,kde=False)\n",
    "plt.yscale('log')\n",
    "plt.title(\"Distribution of Amounts\");"
   ]
  },
  {
   "cell_type": "markdown",
   "metadata": {},
   "source": [
    "Distributions for PCA transformed columns `V1`-`V28`"
   ]
  },
  {
   "cell_type": "code",
   "execution_count": 54,
   "metadata": {},
   "outputs": [
    {
     "name": "stdout",
     "output_type": "stream",
     "text": [
      "Distributions for Columns V1-V28\n"
     ]
    },
    {
     "data": {
      "image/png": "[encoded data removed]",
      "text/plain": [
       "<Figure size 1440x2160 with 28 Axes>"
      ]
     },
     "metadata": {},
     "output_type": "display_data"
    }
   ],
   "source": [
    "plt.figure(figsize=(20,30))\n",
    "for i in range(1,29):\n",
    "    plt.subplot(7,4,i)\n",
    "    sns.distplot(df[f\"V{i}\"],kde=False)\n",
    "    plt.title(f\"V{i}\")\n",
    "    plt.xlabel(\"\")\n",
    "    frame1 = plt.gca()\n",
    "    frame1.axes.xaxis.set_ticklabels([])\n",
    "    frame1.axes.yaxis.set_ticklabels([])"
   ]
  },
  {
   "cell_type": "markdown",
   "metadata": {},
   "source": [
    "Examine the correlation between each feature and the target"
   ]
  },
  {
   "cell_type": "code",
   "execution_count": 64,
   "metadata": {},
   "outputs": [
    {
     "data": {
      "text/html": [
       "<div>\n",
       "<style scoped>\n",
       "    .dataframe tbody tr th:only-of-type {\n",
       "        vertical-align: middle;\n",
       "    }\n",
       "\n",
       "    .dataframe tbody tr th {\n",
       "        vertical-align: top;\n",
       "    }\n",
       "\n",
       "    .dataframe thead th {\n",
       "        text-align: right;\n",
       "    }\n",
       "</style>\n",
       "<table border=\"1\" class=\"dataframe\">\n",
       "  <thead>\n",
       "    <tr style=\"text-align: right;\">\n",
       "      <th></th>\n",
       "      <th>ColName</th>\n",
       "      <th>Correlation</th>\n",
       "    </tr>\n",
       "  </thead>\n",
       "  <tbody>\n",
       "    <tr>\n",
       "      <th>17</th>\n",
       "      <td>V17</td>\n",
       "      <td>-0.326481</td>\n",
       "    </tr>\n",
       "    <tr>\n",
       "      <th>14</th>\n",
       "      <td>V14</td>\n",
       "      <td>-0.302544</td>\n",
       "    </tr>\n",
       "    <tr>\n",
       "      <th>12</th>\n",
       "      <td>V12</td>\n",
       "      <td>-0.260593</td>\n",
       "    </tr>\n",
       "    <tr>\n",
       "      <th>10</th>\n",
       "      <td>V10</td>\n",
       "      <td>-0.216883</td>\n",
       "    </tr>\n",
       "    <tr>\n",
       "      <th>16</th>\n",
       "      <td>V16</td>\n",
       "      <td>-0.196539</td>\n",
       "    </tr>\n",
       "    <tr>\n",
       "      <th>3</th>\n",
       "      <td>V3</td>\n",
       "      <td>-0.192961</td>\n",
       "    </tr>\n",
       "    <tr>\n",
       "      <th>7</th>\n",
       "      <td>V7</td>\n",
       "      <td>-0.187257</td>\n",
       "    </tr>\n",
       "    <tr>\n",
       "      <th>11</th>\n",
       "      <td>V11</td>\n",
       "      <td>0.154876</td>\n",
       "    </tr>\n",
       "    <tr>\n",
       "      <th>4</th>\n",
       "      <td>V4</td>\n",
       "      <td>0.133447</td>\n",
       "    </tr>\n",
       "    <tr>\n",
       "      <th>18</th>\n",
       "      <td>V18</td>\n",
       "      <td>-0.111485</td>\n",
       "    </tr>\n",
       "    <tr>\n",
       "      <th>1</th>\n",
       "      <td>V1</td>\n",
       "      <td>-0.101347</td>\n",
       "    </tr>\n",
       "    <tr>\n",
       "      <th>9</th>\n",
       "      <td>V9</td>\n",
       "      <td>-0.097733</td>\n",
       "    </tr>\n",
       "    <tr>\n",
       "      <th>5</th>\n",
       "      <td>V5</td>\n",
       "      <td>-0.094974</td>\n",
       "    </tr>\n",
       "    <tr>\n",
       "      <th>2</th>\n",
       "      <td>V2</td>\n",
       "      <td>0.091289</td>\n",
       "    </tr>\n",
       "    <tr>\n",
       "      <th>6</th>\n",
       "      <td>V6</td>\n",
       "      <td>-0.043643</td>\n",
       "    </tr>\n",
       "    <tr>\n",
       "      <th>21</th>\n",
       "      <td>V21</td>\n",
       "      <td>0.040413</td>\n",
       "    </tr>\n",
       "    <tr>\n",
       "      <th>19</th>\n",
       "      <td>V19</td>\n",
       "      <td>0.034783</td>\n",
       "    </tr>\n",
       "    <tr>\n",
       "      <th>20</th>\n",
       "      <td>V20</td>\n",
       "      <td>0.020090</td>\n",
       "    </tr>\n",
       "    <tr>\n",
       "      <th>8</th>\n",
       "      <td>V8</td>\n",
       "      <td>0.019875</td>\n",
       "    </tr>\n",
       "    <tr>\n",
       "      <th>27</th>\n",
       "      <td>V27</td>\n",
       "      <td>0.017580</td>\n",
       "    </tr>\n",
       "    <tr>\n",
       "      <th>0</th>\n",
       "      <td>Time</td>\n",
       "      <td>-0.012323</td>\n",
       "    </tr>\n",
       "    <tr>\n",
       "      <th>28</th>\n",
       "      <td>V28</td>\n",
       "      <td>0.009536</td>\n",
       "    </tr>\n",
       "    <tr>\n",
       "      <th>24</th>\n",
       "      <td>V24</td>\n",
       "      <td>-0.007221</td>\n",
       "    </tr>\n",
       "    <tr>\n",
       "      <th>29</th>\n",
       "      <td>Amount</td>\n",
       "      <td>0.005632</td>\n",
       "    </tr>\n",
       "    <tr>\n",
       "      <th>13</th>\n",
       "      <td>V13</td>\n",
       "      <td>-0.004570</td>\n",
       "    </tr>\n",
       "    <tr>\n",
       "      <th>26</th>\n",
       "      <td>V26</td>\n",
       "      <td>0.004455</td>\n",
       "    </tr>\n",
       "    <tr>\n",
       "      <th>15</th>\n",
       "      <td>V15</td>\n",
       "      <td>-0.004223</td>\n",
       "    </tr>\n",
       "    <tr>\n",
       "      <th>25</th>\n",
       "      <td>V25</td>\n",
       "      <td>0.003308</td>\n",
       "    </tr>\n",
       "    <tr>\n",
       "      <th>23</th>\n",
       "      <td>V23</td>\n",
       "      <td>-0.002685</td>\n",
       "    </tr>\n",
       "    <tr>\n",
       "      <th>22</th>\n",
       "      <td>V22</td>\n",
       "      <td>0.000805</td>\n",
       "    </tr>\n",
       "  </tbody>\n",
       "</table>\n",
       "</div>"
      ],
      "text/plain": [
       "   ColName  Correlation\n",
       "17     V17    -0.326481\n",
       "14     V14    -0.302544\n",
       "12     V12    -0.260593\n",
       "10     V10    -0.216883\n",
       "16     V16    -0.196539\n",
       "3       V3    -0.192961\n",
       "7       V7    -0.187257\n",
       "11     V11     0.154876\n",
       "4       V4     0.133447\n",
       "18     V18    -0.111485\n",
       "1       V1    -0.101347\n",
       "9       V9    -0.097733\n",
       "5       V5    -0.094974\n",
       "2       V2     0.091289\n",
       "6       V6    -0.043643\n",
       "21     V21     0.040413\n",
       "19     V19     0.034783\n",
       "20     V20     0.020090\n",
       "8       V8     0.019875\n",
       "27     V27     0.017580\n",
       "0     Time    -0.012323\n",
       "28     V28     0.009536\n",
       "24     V24    -0.007221\n",
       "29  Amount     0.005632\n",
       "13     V13    -0.004570\n",
       "26     V26     0.004455\n",
       "15     V15    -0.004223\n",
       "25     V25     0.003308\n",
       "23     V23    -0.002685\n",
       "22     V22     0.000805"
      ]
     },
     "execution_count": 64,
     "metadata": {},
     "output_type": "execute_result"
    }
   ],
   "source": [
    "df.corr()[\"Class\"]\\\n",
    "    .reset_index()\\\n",
    "    .rename(columns={\n",
    "        \"index\":\"ColName\",\n",
    "        \"Class\":\"Correlation\"\n",
    "    })\\\n",
    "    .sort_values(\n",
    "        \"Correlation\",\n",
    "        ascending=False,\n",
    "        key=lambda n: abs(n)\n",
    "    ).query(\"ColName != 'Class'\")"
   ]
  },
  {
   "cell_type": "markdown",
   "metadata": {},
   "source": [
    "---\n",
    "\n",
    "## Building a model to make predictions"
   ]
  },
  {
   "cell_type": "code",
   "execution_count": 102,
   "metadata": {},
   "outputs": [],
   "source": [
    "import pickle"
   ]
  },
  {
   "cell_type": "code",
   "execution_count": 77,
   "metadata": {},
   "outputs": [],
   "source": [
    "from sklearn.model_selection import train_test_split\n",
    "\n",
    "def train_test_val_split(X,y,test_pct=0.3,val_pct=0.33):\n",
    "    X_train, X_test, y_train, y_test = train_test_split(X,y,test_size=test_pct)\n",
    "    X_val, X_test, y_val, y_test = train_test_split(X_train,y_train,test_size=val_pct)\n",
    "    return X_train, X_val, X_test, y_train, y_val, y_test"
   ]
  },
  {
   "cell_type": "code",
   "execution_count": 146,
   "metadata": {},
   "outputs": [],
   "source": [
    "from sklearn.metrics import confusion_matrix\n",
    "\n",
    "def show_confusion(y_true,y_pred,log_transform=False):\n",
    "    c = confusion_matrix(y_true,y_pred)\n",
    "    if log_transform: \n",
    "        c = np.log(c + (1/len(y_true)))\n",
    "    mat = pd.DataFrame(\n",
    "        c,\n",
    "        columns=[\"True -\",\"True +\"],\n",
    "        index=[\"Pred -\",\"Pred +\"]\n",
    "    )\n",
    "    sns.heatmap(mat)\n",
    "    plt.title(\"\")"
   ]
  },
  {
   "cell_type": "code",
   "execution_count": 78,
   "metadata": {},
   "outputs": [],
   "source": [
    "X = df.drop(columns=\"Class\")\n",
    "y = df[\"Class\"]\n",
    "\n",
    "(\n",
    "    X_train, X_val, \n",
    "    X_test, y_train, \n",
    "    y_val, y_test\n",
    ") = train_test_val_split(X,y)"
   ]
  },
  {
   "cell_type": "code",
   "execution_count": 80,
   "metadata": {},
   "outputs": [],
   "source": [
    "from sklearn.pipeline import Pipeline\n",
    "from sklearn.preprocessing import StandardScaler\n",
    "from sklearn.linear_model import LogisticRegression, LogisticRegressionCV"
   ]
  },
  {
   "cell_type": "code",
   "execution_count": 125,
   "metadata": {},
   "outputs": [
    {
     "name": "stdout",
     "output_type": "stream",
     "text": [
      "Pipeline(steps=[('scaler', StandardScaler()),\n",
      "                ('logreg', LogisticRegressionCV())])\n"
     ]
    },
    {
     "data": {
      "text/plain": [
       "Pipeline(steps=[('scaler', StandardScaler()),\n",
       "                ('logreg', LogisticRegressionCV())])"
      ]
     },
     "execution_count": 125,
     "metadata": {},
     "output_type": "execute_result"
    }
   ],
   "source": [
    "log_pipeline = Pipeline([\n",
    "    (\"scaler\",StandardScaler()),\n",
    "    (\"logreg\",LogisticRegressionCV())\n",
    "])\n",
    "print(log_pipeline)\n",
    "log_pipeline.fit(X_train,y_train)"
   ]
  },
  {
   "cell_type": "code",
   "execution_count": 126,
   "metadata": {},
   "outputs": [
    {
     "name": "stdout",
     "output_type": "stream",
     "text": [
      "Prediction Score:  0.999147\n",
      "Prediction Score:  0.999199\n",
      "Prediction Score:  0.999042\n",
      "\n",
      "Naive Guess Score: 0.998273\n"
     ]
    }
   ],
   "source": [
    "print(f\"Prediction Score:  {log_pipeline.score(X_train,y_train):.6f}\")\n",
    "print(f\"Prediction Score:  {log_pipeline.score(X_val,y_val):.6f}\")\n",
    "print(f\"Prediction Score:  {log_pipeline.score(X_test,y_test):.6f}\")\n",
    "print(f\"\\nNaive Guess Score: {1-class_balance:.6f}\")"
   ]
  },
  {
   "cell_type": "code",
   "execution_count": 147,
   "metadata": {},
   "outputs": [
    {
     "data": {
      "image/png": "[encoded data removed]",
      "text/plain": [
       "<Figure size 432x288 with 2 Axes>"
      ]
     },
     "metadata": {},
     "output_type": "display_data"
    }
   ],
   "source": [
    "show_confusion(\n",
    "    y_test,\n",
    "    log_pipeline.predict(X_test),\n",
    "    True\n",
    ")"
   ]
  },
  {
   "cell_type": "code",
   "execution_count": null,
   "metadata": {},
   "outputs": [],
   "source": [
    "with open(\"models/\")"
   ]
  },
  {
   "cell_type": "markdown",
   "metadata": {},
   "source": [
    "## Gradient Boosted Treeslog_pipeline"
   ]
  },
  {
   "cell_type": "markdown",
   "metadata": {},
   "source": [
    "### XGBoost"
   ]
  },
  {
   "cell_type": "code",
   "execution_count": 91,
   "metadata": {},
   "outputs": [],
   "source": [
    "from xgboost import XGBClassifier"
   ]
  },
  {
   "cell_type": "code",
   "execution_count": 112,
   "metadata": {},
   "outputs": [
    {
     "name": "stdout",
     "output_type": "stream",
     "text": [
      "[0]\tvalidation_0-error:0.00043\n",
      "[1]\tvalidation_0-error:0.00038\n",
      "[2]\tvalidation_0-error:0.00034\n",
      "[3]\tvalidation_0-error:0.00033\n",
      "[4]\tvalidation_0-error:0.00030\n",
      "[5]\tvalidation_0-error:0.00029\n",
      "[6]\tvalidation_0-error:0.00028\n",
      "[7]\tvalidation_0-error:0.00027\n",
      "[8]\tvalidation_0-error:0.00027\n",
      "[9]\tvalidation_0-error:0.00027\n",
      "[10]\tvalidation_0-error:0.00027\n",
      "[11]\tvalidation_0-error:0.00027\n",
      "[12]\tvalidation_0-error:0.00026\n",
      "[13]\tvalidation_0-error:0.00026\n",
      "[14]\tvalidation_0-error:0.00026\n",
      "[15]\tvalidation_0-error:0.00026\n",
      "[16]\tvalidation_0-error:0.00026\n",
      "[17]\tvalidation_0-error:0.00025\n",
      "[18]\tvalidation_0-error:0.00023\n",
      "[19]\tvalidation_0-error:0.00023\n",
      "[20]\tvalidation_0-error:0.00023\n",
      "[21]\tvalidation_0-error:0.00022\n",
      "[22]\tvalidation_0-error:0.00022\n",
      "[23]\tvalidation_0-error:0.00020\n",
      "[24]\tvalidation_0-error:0.00019\n",
      "[25]\tvalidation_0-error:0.00019\n",
      "[26]\tvalidation_0-error:0.00018\n",
      "[27]\tvalidation_0-error:0.00018\n",
      "[28]\tvalidation_0-error:0.00016\n",
      "[29]\tvalidation_0-error:0.00014\n",
      "[30]\tvalidation_0-error:0.00015\n",
      "[31]\tvalidation_0-error:0.00014\n",
      "[32]\tvalidation_0-error:0.00014\n",
      "[33]\tvalidation_0-error:0.00014\n",
      "[34]\tvalidation_0-error:0.00011\n",
      "[35]\tvalidation_0-error:0.00011\n",
      "[36]\tvalidation_0-error:0.00009\n",
      "[37]\tvalidation_0-error:0.00007\n",
      "[38]\tvalidation_0-error:0.00006\n",
      "[39]\tvalidation_0-error:0.00005\n",
      "[40]\tvalidation_0-error:0.00005\n",
      "[41]\tvalidation_0-error:0.00005\n",
      "[42]\tvalidation_0-error:0.00004\n",
      "[43]\tvalidation_0-error:0.00004\n",
      "[44]\tvalidation_0-error:0.00003\n",
      "[45]\tvalidation_0-error:0.00003\n",
      "[46]\tvalidation_0-error:0.00003\n",
      "[47]\tvalidation_0-error:0.00003\n",
      "[48]\tvalidation_0-error:0.00002\n",
      "[49]\tvalidation_0-error:0.00001\n",
      "[50]\tvalidation_0-error:0.00001\n",
      "[51]\tvalidation_0-error:0.00001\n",
      "[52]\tvalidation_0-error:0.00000\n",
      "[53]\tvalidation_0-error:0.00000\n",
      "[54]\tvalidation_0-error:0.00000\n",
      "[55]\tvalidation_0-error:0.00000\n",
      "[56]\tvalidation_0-error:0.00000\n",
      "[57]\tvalidation_0-error:0.00000\n",
      "[58]\tvalidation_0-error:0.00000\n",
      "[59]\tvalidation_0-error:0.00000\n",
      "[60]\tvalidation_0-error:0.00000\n",
      "[61]\tvalidation_0-error:0.00000\n",
      "[62]\tvalidation_0-error:0.00000\n",
      "[63]\tvalidation_0-error:0.00000\n",
      "[64]\tvalidation_0-error:0.00000\n",
      "[65]\tvalidation_0-error:0.00000\n",
      "[66]\tvalidation_0-error:0.00000\n",
      "[67]\tvalidation_0-error:0.00000\n",
      "[68]\tvalidation_0-error:0.00000\n",
      "[69]\tvalidation_0-error:0.00000\n",
      "[70]\tvalidation_0-error:0.00000\n",
      "[71]\tvalidation_0-error:0.00000\n",
      "[72]\tvalidation_0-error:0.00000\n",
      "[73]\tvalidation_0-error:0.00000\n",
      "[74]\tvalidation_0-error:0.00000\n",
      "[75]\tvalidation_0-error:0.00000\n",
      "[76]\tvalidation_0-error:0.00000\n",
      "[77]\tvalidation_0-error:0.00000\n",
      "[78]\tvalidation_0-error:0.00000\n",
      "[79]\tvalidation_0-error:0.00000\n",
      "[80]\tvalidation_0-error:0.00000\n",
      "[81]\tvalidation_0-error:0.00000\n",
      "[82]\tvalidation_0-error:0.00000\n",
      "[83]\tvalidation_0-error:0.00000\n",
      "[84]\tvalidation_0-error:0.00000\n",
      "[85]\tvalidation_0-error:0.00000\n",
      "[86]\tvalidation_0-error:0.00000\n",
      "[87]\tvalidation_0-error:0.00000\n",
      "[88]\tvalidation_0-error:0.00000\n",
      "[89]\tvalidation_0-error:0.00000\n",
      "[90]\tvalidation_0-error:0.00000\n",
      "[91]\tvalidation_0-error:0.00000\n",
      "[92]\tvalidation_0-error:0.00000\n",
      "[93]\tvalidation_0-error:0.00000\n",
      "[94]\tvalidation_0-error:0.00000\n",
      "[95]\tvalidation_0-error:0.00000\n",
      "[96]\tvalidation_0-error:0.00000\n",
      "[97]\tvalidation_0-error:0.00000\n",
      "[98]\tvalidation_0-error:0.00000\n",
      "[99]\tvalidation_0-error:0.00000\n",
      "Train Score: 1.000000\n",
      "Val   Score: 1.000000\n",
      "Test  Score: 1.000000\n"
     ]
    }
   ],
   "source": [
    "xgbc = XGBClassifier()\n",
    "xgbc.fit(\n",
    "    X_train,\n",
    "    y_train,\n",
    "    eval_set=[\n",
    "        (X_val,y_val)\n",
    "    ],\n",
    "    verbose=False\n",
    ")\n",
    "\n",
    "print(f\"Train Score: {xgbc.score(X_train,y_train):.6f}\")\n",
    "print(f\"Val   Score: {xgbc.score(X_val,y_val):.6f}\")\n",
    "\n",
    "xgbc_test_score = xgbc.score(X_test,y_test)\n",
    "print(f\"Test  Score: {xgbc_test_score:.6f}\")"
   ]
  },
  {
   "cell_type": "code",
   "execution_count": 148,
   "metadata": {},
   "outputs": [
    {
     "data": {
      "image/png": "[encoded data removed]",
      "text/plain": [
       "<Figure size 432x288 with 2 Axes>"
      ]
     },
     "metadata": {},
     "output_type": "display_data"
    }
   ],
   "source": [
    "show_confusion(\n",
    "    y_test,\n",
    "    xgbc.predict(X_test),\n",
    "    True\n",
    ")"
   ]
  },
  {
   "cell_type": "code",
   "execution_count": 117,
   "metadata": {},
   "outputs": [],
   "source": [
    "with open(f\"models/xgbc_{xgbc_test_score}_test.pkl\",\"wb\") as f:\n",
    "    pickle.dump(xgbc,f)"
   ]
  },
  {
   "cell_type": "markdown",
   "metadata": {},
   "source": [
    "### LightGBM"
   ]
  },
  {
   "cell_type": "code",
   "execution_count": 101,
   "metadata": {},
   "outputs": [],
   "source": [
    "from lightgbm import LGBMClassifier"
   ]
  },
  {
   "cell_type": "code",
   "execution_count": 113,
   "metadata": {},
   "outputs": [
    {
     "name": "stdout",
     "output_type": "stream",
     "text": [
      "[1]\tvalid_0's binary_logloss: 0.0502686\n",
      "[2]\tvalid_0's binary_logloss: 0.0482889\n",
      "[3]\tvalid_0's binary_logloss: 0.071049\n",
      "[4]\tvalid_0's binary_logloss: 0.0485726\n",
      "[5]\tvalid_0's binary_logloss: 0.0577783\n",
      "[6]\tvalid_0's binary_logloss: 0.0491893\n",
      "[7]\tvalid_0's binary_logloss: 0.0715407\n",
      "[8]\tvalid_0's binary_logloss: 0.0490397\n",
      "[9]\tvalid_0's binary_logloss: 0.0627094\n",
      "[10]\tvalid_0's binary_logloss: 0.0493018\n",
      "[11]\tvalid_0's binary_logloss: 0.0491222\n",
      "[12]\tvalid_0's binary_logloss: 0.0530798\n",
      "[13]\tvalid_0's binary_logloss: 0.0513108\n",
      "[14]\tvalid_0's binary_logloss: 0.0508115\n",
      "[15]\tvalid_0's binary_logloss: 0.0504645\n",
      "[16]\tvalid_0's binary_logloss: 0.050249\n",
      "[17]\tvalid_0's binary_logloss: 0.0500847\n",
      "[18]\tvalid_0's binary_logloss: 0.0498973\n",
      "[19]\tvalid_0's binary_logloss: 0.049765\n",
      "[20]\tvalid_0's binary_logloss: 0.0497416\n",
      "[21]\tvalid_0's binary_logloss: 0.0499177\n",
      "[22]\tvalid_0's binary_logloss: 0.049681\n",
      "[23]\tvalid_0's binary_logloss: 0.049574\n",
      "[24]\tvalid_0's binary_logloss: 0.0494839\n",
      "[25]\tvalid_0's binary_logloss: 0.0494028\n",
      "[26]\tvalid_0's binary_logloss: 0.0493285\n",
      "[27]\tvalid_0's binary_logloss: 0.0492738\n",
      "[28]\tvalid_0's binary_logloss: 0.0492214\n",
      "[29]\tvalid_0's binary_logloss: 0.0493198\n",
      "[30]\tvalid_0's binary_logloss: 0.04919\n",
      "[31]\tvalid_0's binary_logloss: 0.0491523\n",
      "[32]\tvalid_0's binary_logloss: 0.0490906\n",
      "[33]\tvalid_0's binary_logloss: 0.0490356\n",
      "[34]\tvalid_0's binary_logloss: 0.0489907\n",
      "[35]\tvalid_0's binary_logloss: 0.0496591\n",
      "[36]\tvalid_0's binary_logloss: 0.0489196\n",
      "[37]\tvalid_0's binary_logloss: 0.0488854\n",
      "[38]\tvalid_0's binary_logloss: 0.0488481\n",
      "[39]\tvalid_0's binary_logloss: 0.0488151\n",
      "[40]\tvalid_0's binary_logloss: 0.0487954\n",
      "[41]\tvalid_0's binary_logloss: 0.0487662\n",
      "[42]\tvalid_0's binary_logloss: 0.0487249\n",
      "[43]\tvalid_0's binary_logloss: 0.048693\n",
      "[44]\tvalid_0's binary_logloss: 0.0486644\n",
      "[45]\tvalid_0's binary_logloss: 0.0485912\n",
      "[46]\tvalid_0's binary_logloss: 0.0485249\n",
      "[47]\tvalid_0's binary_logloss: 0.0484991\n",
      "[48]\tvalid_0's binary_logloss: 0.0483977\n",
      "[49]\tvalid_0's binary_logloss: 0.0491708\n",
      "[50]\tvalid_0's binary_logloss: 0.0594407\n",
      "[51]\tvalid_0's binary_logloss: 0.0543378\n",
      "[52]\tvalid_0's binary_logloss: 0.0529993\n",
      "[53]\tvalid_0's binary_logloss: 0.0521951\n",
      "[54]\tvalid_0's binary_logloss: 0.0516137\n",
      "[55]\tvalid_0's binary_logloss: 0.0511878\n",
      "[56]\tvalid_0's binary_logloss: 0.0509635\n",
      "[57]\tvalid_0's binary_logloss: 0.0505416\n",
      "[58]\tvalid_0's binary_logloss: 0.050308\n",
      "[59]\tvalid_0's binary_logloss: 0.0501153\n",
      "[60]\tvalid_0's binary_logloss: 0.050121\n",
      "[61]\tvalid_0's binary_logloss: 0.0498802\n",
      "[62]\tvalid_0's binary_logloss: 0.0497207\n",
      "[63]\tvalid_0's binary_logloss: 0.0496337\n",
      "[64]\tvalid_0's binary_logloss: 0.0495996\n",
      "[65]\tvalid_0's binary_logloss: 0.0494161\n",
      "[66]\tvalid_0's binary_logloss: 0.0493251\n",
      "[67]\tvalid_0's binary_logloss: 0.0493048\n",
      "[68]\tvalid_0's binary_logloss: 0.0490602\n",
      "[69]\tvalid_0's binary_logloss: 0.049186\n",
      "[70]\tvalid_0's binary_logloss: 0.0491067\n",
      "[71]\tvalid_0's binary_logloss: 0.049006\n",
      "[72]\tvalid_0's binary_logloss: 0.0489627\n",
      "[73]\tvalid_0's binary_logloss: 0.0488191\n",
      "[74]\tvalid_0's binary_logloss: 0.0489169\n",
      "[75]\tvalid_0's binary_logloss: 0.0486385\n",
      "[76]\tvalid_0's binary_logloss: 0.0484795\n",
      "[77]\tvalid_0's binary_logloss: 0.0483704\n",
      "[78]\tvalid_0's binary_logloss: 0.0483188\n",
      "[79]\tvalid_0's binary_logloss: 0.048269\n",
      "[80]\tvalid_0's binary_logloss: 0.0482348\n",
      "[81]\tvalid_0's binary_logloss: 0.0481943\n",
      "[82]\tvalid_0's binary_logloss: 0.0481761\n",
      "[83]\tvalid_0's binary_logloss: 0.0482971\n",
      "[84]\tvalid_0's binary_logloss: 0.0482099\n",
      "[85]\tvalid_0's binary_logloss: 0.0481819\n",
      "[86]\tvalid_0's binary_logloss: 0.0482247\n",
      "[87]\tvalid_0's binary_logloss: 0.0481899\n",
      "[88]\tvalid_0's binary_logloss: 0.0481915\n",
      "[89]\tvalid_0's binary_logloss: 0.0481277\n",
      "[90]\tvalid_0's binary_logloss: 0.0480888\n",
      "[91]\tvalid_0's binary_logloss: 0.0482251\n",
      "[92]\tvalid_0's binary_logloss: 0.0484739\n",
      "[93]\tvalid_0's binary_logloss: 0.0487349\n",
      "[94]\tvalid_0's binary_logloss: 0.0479144\n",
      "[95]\tvalid_0's binary_logloss: 0.0479697\n",
      "[96]\tvalid_0's binary_logloss: 0.0478265\n",
      "[97]\tvalid_0's binary_logloss: 0.0477733\n",
      "[98]\tvalid_0's binary_logloss: 0.0477065\n",
      "[99]\tvalid_0's binary_logloss: 0.0477281\n",
      "[100]\tvalid_0's binary_logloss: 0.0476475\n",
      "Train Score: 0.998355\n",
      "Val   Score: 0.998450\n",
      "Test  Score: 0.998161\n"
     ]
    }
   ],
   "source": [
    "lgbc = LGBMClassifier(\n",
    "    class_weight={\n",
    "        0: 1-class_balance,\n",
    "        1: class_balance\n",
    "    }\n",
    ")\n",
    "lgbc.fit(\n",
    "    X_train,\n",
    "    y_train,\n",
    "    eval_set=[\n",
    "        (X_val,y_val)\n",
    "    ],\n",
    "    verbose=True\n",
    ")\n",
    "lgbc.score(X_test,y_test)\n",
    "\n",
    "print(f\"Train Score: {lgbc.score(X_train,y_train):.6f}\")\n",
    "print(f\"Val   Score: {lgbc.score(X_val,y_val):.6f}\")\n",
    "\n",
    "lgbc_test_score = lgbc.score(X_test,y_test)\n",
    "print(f\"Test  Score: {lgbc_test_score:.6f}\")"
   ]
  },
  {
   "cell_type": "code",
   "execution_count": 139,
   "metadata": {},
   "outputs": [
    {
     "data": {
      "image/png": "[encoded data removed]",
      "text/plain": [
       "<Figure size 432x288 with 2 Axes>"
      ]
     },
     "metadata": {},
     "output_type": "display_data"
    }
   ],
   "source": [
    "show_confusion(\n",
    "    y_test,\n",
    "    lgbc.predict(X_test),\n",
    "    True\n",
    ")"
   ]
  },
  {
   "cell_type": "code",
   "execution_count": 116,
   "metadata": {},
   "outputs": [],
   "source": [
    "with open(f\"models/xgbc_{lgbc_test_score}_test.pkl\",\"wb\") as f:\n",
    "    pickle.dump(lgbc,f)"
   ]
  },
  {
   "cell_type": "code",
   "execution_count": 145,
   "metadata": {},
   "outputs": [
    {
     "data": {
      "text/plain": [
       "array([[284315,      0],\n",
       "       [   492,      0]])"
      ]
     },
     "execution_count": 145,
     "metadata": {},
     "output_type": "execute_result"
    }
   ],
   "source": [
    "confusion_matrix(y,np.zeros(len(y)))"
   ]
  },
  {
   "cell_type": "code",
   "execution_count": null,
   "metadata": {},
   "outputs": [],
   "source": []
  }
 ],
 "metadata": {
  "kernelspec": {
   "display_name": "Python 3",
   "language": "python",
   "name": "python3"
  },
  "language_info": {
   "codemirror_mode": {
    "name": "ipython",
    "version": 3
   },
   "file_extension": ".py",
   "mimetype": "text/x-python",
   "name": "python",
   "nbconvert_exporter": "python",
   "pygments_lexer": "ipython3",
   "version": "3.8.5"
  }
 },
 "nbformat": 4,
 "nbformat_minor": 4
}
